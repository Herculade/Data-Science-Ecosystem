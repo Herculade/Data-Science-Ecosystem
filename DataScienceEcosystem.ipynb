{
 "cells": [
  {
   "cell_type": "markdown",
   "id": "d7b3c57e-36d1-454e-93cf-f7426b138d72",
   "metadata": {},
   "source": [
    "# Data Science Ecosystem"
   ]
  },
  {
   "cell_type": "markdown",
   "id": "68db2ae7-31ba-40bf-b6af-bd0878ebdeed",
   "metadata": {},
   "source": [
    "In this notebook, Data Science Tools and Ecosystem are summarized."
   ]
  },
  {
   "cell_type": "markdown",
   "id": "abd7ace2-7243-402f-871e-1eacbf785769",
   "metadata": {},
   "source": [
    "*Objectives:*\n",
    "- List popular languages used in Data Science\n",
    "- List Libraries Data Scientists commonly use\n",
    "- List some Open Source tools used in data Science\n"
   ]
  },
  {
   "cell_type": "markdown",
   "id": "6f36b35c-2b4b-4e16-bb16-cbbee7f70525",
   "metadata": {},
   "source": [
    "\n",
    "Some of the popular languages used by Data Scientists use are:\n",
    "1. R\n",
    "2. Python\n",
    "3. SQL\n",
    "4. Julia"
   ]
  },
  {
   "cell_type": "markdown",
   "id": "ac3e2b65-28ec-4b62-b9f7-4fb26f9302f3",
   "metadata": {},
   "source": [
    "Data Scientists also commonly use these libraries:\n",
    "\n",
    "1. ggplot\n",
    "2. Caret\n",
    "3. Plotly\n",
    "4. dplyr"
   ]
  },
  {
   "cell_type": "markdown",
   "id": "c7f9807e-cdf9-4f5e-a579-e4d5cf398d7e",
   "metadata": {},
   "source": [
    "Some Open source tools used in Data Science.\n",
    "| Science Tools|\n",
    "|--------------|\n",
    "|Hadoop|\n",
    "|Apache Spark|\n",
    "|Scikit-Learn|\n"
   ]
  },
  {
   "cell_type": "markdown",
   "id": "efe98982-f2d4-47aa-9821-611c08100fba",
   "metadata": {},
   "source": [
    "### Below are a few examples of evaluating arithmetic expressions in Python."
   ]
  },
  {
   "cell_type": "code",
   "execution_count": 14,
   "id": "66b0507b-36ec-457d-abc0-1fe701d051ea",
   "metadata": {
    "tags": []
   },
   "outputs": [
    {
     "data": {
      "text/plain": [
       "17"
      ]
     },
     "execution_count": 14,
     "metadata": {},
     "output_type": "execute_result"
    }
   ],
   "source": [
    "# This is a simple arithmetic expression to multiply then add numbers.That is correct, you heard me right.\n",
    "\n",
    "(3*4)+5\n"
   ]
  },
  {
   "cell_type": "code",
   "execution_count": 13,
   "id": "2a8bc5ce-e37f-474f-90e2-6e2c8a55f83c",
   "metadata": {
    "tags": []
   },
   "outputs": [
    {
     "data": {
      "text/plain": [
       "3.3333333333333335"
      ]
     },
     "execution_count": 13,
     "metadata": {},
     "output_type": "execute_result"
    }
   ],
   "source": [
    "# This will convert 200 minutes into hours by dividing by 60\n",
    "\n",
    "200/60"
   ]
  },
  {
   "cell_type": "markdown",
   "id": "c06dc628-92ec-43ea-b880-e0286a539470",
   "metadata": {},
   "source": [
    "## Author.\n",
    "Corey Feldman"
   ]
  },
  {
   "cell_type": "markdown",
   "id": "dd64889f-8819-44c0-890a-8f104d45fb45",
   "metadata": {},
   "source": [
    "This was completed as part of an assessment task in the IBM Data Science Professional Certificate"
   ]
  }
 ],
 "metadata": {
  "kernelspec": {
   "display_name": "Python",
   "language": "python",
   "name": "conda-env-python-py"
  },
  "language_info": {
   "codemirror_mode": {
    "name": "ipython",
    "version": 3
   },
   "file_extension": ".py",
   "mimetype": "text/x-python",
   "name": "python",
   "nbconvert_exporter": "python",
   "pygments_lexer": "ipython3",
   "version": "3.7.12"
  }
 },
 "nbformat": 4,
 "nbformat_minor": 5
}
